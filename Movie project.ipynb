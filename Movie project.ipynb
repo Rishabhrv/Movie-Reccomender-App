{
 "cells": [
  {
   "cell_type": "code",
   "execution_count": 105,
   "id": "f4945bbc-13dd-4004-88b1-f281bb376b13",
   "metadata": {},
   "outputs": [],
   "source": [
    "import pandas as pd\n",
    "import numpy as np\n",
    "import requests"
   ]
  },
  {
   "cell_type": "code",
   "execution_count": 106,
   "id": "ea6cf493-6518-446e-95ac-d687edc21822",
   "metadata": {},
   "outputs": [],
   "source": [
    "movies = pd.read_csv(r'C:\\Users\\pc\\ML\\Projects\\Recc Movie\\data\\tmdb_5000_movies.csv')\n",
    "credit = pd.read_csv(r'C:\\Users\\pc\\ML\\Projects\\Recc Movie\\data\\tmdb_5000_credits.csv')"
   ]
  },
  {
   "cell_type": "code",
   "execution_count": 107,
   "id": "6ff18445-5f38-4bcb-a22d-94b8748e2c6f",
   "metadata": {},
   "outputs": [
    {
     "name": "stdout",
     "output_type": "stream",
     "text": [
      "(4803, 20)\n",
      "(4803, 4)\n"
     ]
    }
   ],
   "source": [
    "print(movies.shape)\n",
    "print(credit.shape)"
   ]
  },
  {
   "cell_type": "code",
   "execution_count": 108,
   "id": "cbf6cd3f-acf6-44ad-b2cc-d112a5c1f177",
   "metadata": {},
   "outputs": [
    {
     "data": {
      "text/html": [
       "<div>\n",
       "<style scoped>\n",
       "    .dataframe tbody tr th:only-of-type {\n",
       "        vertical-align: middle;\n",
       "    }\n",
       "\n",
       "    .dataframe tbody tr th {\n",
       "        vertical-align: top;\n",
       "    }\n",
       "\n",
       "    .dataframe thead th {\n",
       "        text-align: right;\n",
       "    }\n",
       "</style>\n",
       "<table border=\"1\" class=\"dataframe\">\n",
       "  <thead>\n",
       "    <tr style=\"text-align: right;\">\n",
       "      <th></th>\n",
       "      <th>budget</th>\n",
       "      <th>genres</th>\n",
       "      <th>homepage</th>\n",
       "      <th>id</th>\n",
       "      <th>keywords</th>\n",
       "      <th>original_language</th>\n",
       "      <th>original_title</th>\n",
       "      <th>overview</th>\n",
       "      <th>popularity</th>\n",
       "      <th>production_companies</th>\n",
       "      <th>...</th>\n",
       "      <th>spoken_languages</th>\n",
       "      <th>status</th>\n",
       "      <th>tagline</th>\n",
       "      <th>title</th>\n",
       "      <th>vote_average</th>\n",
       "      <th>vote_count</th>\n",
       "      <th>movie_id</th>\n",
       "      <th>cast</th>\n",
       "      <th>crew</th>\n",
       "      <th>year</th>\n",
       "    </tr>\n",
       "  </thead>\n",
       "  <tbody>\n",
       "    <tr>\n",
       "      <th>0</th>\n",
       "      <td>237000000</td>\n",
       "      <td>[{\"id\": 28, \"name\": \"Action\"}, {\"id\": 12, \"nam...</td>\n",
       "      <td>http://www.avatarmovie.com/</td>\n",
       "      <td>19995</td>\n",
       "      <td>[{\"id\": 1463, \"name\": \"culture clash\"}, {\"id\":...</td>\n",
       "      <td>en</td>\n",
       "      <td>Avatar</td>\n",
       "      <td>In the 22nd century, a paraplegic Marine is di...</td>\n",
       "      <td>150.437577</td>\n",
       "      <td>[{\"name\": \"Ingenious Film Partners\", \"id\": 289...</td>\n",
       "      <td>...</td>\n",
       "      <td>[{\"iso_639_1\": \"en\", \"name\": \"English\"}, {\"iso...</td>\n",
       "      <td>Released</td>\n",
       "      <td>Enter the World of Pandora.</td>\n",
       "      <td>Avatar</td>\n",
       "      <td>7.2</td>\n",
       "      <td>11800</td>\n",
       "      <td>19995</td>\n",
       "      <td>[{\"cast_id\": 242, \"character\": \"Jake Sully\", \"...</td>\n",
       "      <td>[{\"credit_id\": \"52fe48009251416c750aca23\", \"de...</td>\n",
       "      <td>2009.0</td>\n",
       "    </tr>\n",
       "  </tbody>\n",
       "</table>\n",
       "<p>1 rows × 24 columns</p>\n",
       "</div>"
      ],
      "text/plain": [
       "      budget                                             genres  \\\n",
       "0  237000000  [{\"id\": 28, \"name\": \"Action\"}, {\"id\": 12, \"nam...   \n",
       "\n",
       "                      homepage     id  \\\n",
       "0  http://www.avatarmovie.com/  19995   \n",
       "\n",
       "                                            keywords original_language  \\\n",
       "0  [{\"id\": 1463, \"name\": \"culture clash\"}, {\"id\":...                en   \n",
       "\n",
       "  original_title                                           overview  \\\n",
       "0         Avatar  In the 22nd century, a paraplegic Marine is di...   \n",
       "\n",
       "   popularity                               production_companies  ...  \\\n",
       "0  150.437577  [{\"name\": \"Ingenious Film Partners\", \"id\": 289...  ...   \n",
       "\n",
       "                                    spoken_languages    status  \\\n",
       "0  [{\"iso_639_1\": \"en\", \"name\": \"English\"}, {\"iso...  Released   \n",
       "\n",
       "                       tagline   title vote_average vote_count movie_id  \\\n",
       "0  Enter the World of Pandora.  Avatar          7.2      11800    19995   \n",
       "\n",
       "                                                cast  \\\n",
       "0  [{\"cast_id\": 242, \"character\": \"Jake Sully\", \"...   \n",
       "\n",
       "                                                crew    year  \n",
       "0  [{\"credit_id\": \"52fe48009251416c750aca23\", \"de...  2009.0  \n",
       "\n",
       "[1 rows x 24 columns]"
      ]
     },
     "execution_count": 108,
     "metadata": {},
     "output_type": "execute_result"
    }
   ],
   "source": [
    "data.head(1)"
   ]
  },
  {
   "cell_type": "code",
   "execution_count": 109,
   "id": "5ec64264-7c49-45cd-aaf1-8d2c11ec4baf",
   "metadata": {},
   "outputs": [
    {
     "data": {
      "text/plain": [
       "(4809, 23)"
      ]
     },
     "execution_count": 109,
     "metadata": {},
     "output_type": "execute_result"
    }
   ],
   "source": [
    "data = movies.merge(credit,on='title')\n",
    "data.shape"
   ]
  },
  {
   "cell_type": "code",
   "execution_count": 110,
   "id": "6c0e8473-eb30-49fb-81ce-452f1a9871cb",
   "metadata": {},
   "outputs": [],
   "source": [
    "data['release_date'] = pd.to_datetime(data['release_date'])"
   ]
  },
  {
   "cell_type": "code",
   "execution_count": 111,
   "id": "1f73fb00-8639-443b-8c49-c055d9cecc51",
   "metadata": {},
   "outputs": [],
   "source": [
    "data['year'] = data['release_date'].dt.year"
   ]
  },
  {
   "cell_type": "code",
   "execution_count": 113,
   "id": "a38acf4a-94fd-4371-85a4-dd487e16927a",
   "metadata": {},
   "outputs": [
    {
     "data": {
      "text/plain": [
       "Index(['budget', 'genres', 'homepage', 'id', 'keywords', 'original_language',\n",
       "       'original_title', 'overview', 'popularity', 'production_companies',\n",
       "       'production_countries', 'release_date', 'revenue', 'runtime',\n",
       "       'spoken_languages', 'status', 'tagline', 'title', 'vote_average',\n",
       "       'vote_count', 'movie_id', 'cast', 'crew', 'year'],\n",
       "      dtype='object')"
      ]
     },
     "execution_count": 113,
     "metadata": {},
     "output_type": "execute_result"
    }
   ],
   "source": [
    "data.columns"
   ]
  },
  {
   "cell_type": "code",
   "execution_count": 114,
   "id": "0a5606ef-f053-4000-a8ab-5c4049fa2591",
   "metadata": {},
   "outputs": [],
   "source": [
    "top_grossing = data.sort_values(by ='revenue',ascending = False)"
   ]
  },
  {
   "cell_type": "code",
   "execution_count": 115,
   "id": "4b82d2ee-0564-4252-948b-f881dd39334c",
   "metadata": {},
   "outputs": [],
   "source": [
    "top_grossing = top_grossing[['revenue','title','movie_id','year']]"
   ]
  },
  {
   "cell_type": "code",
   "execution_count": 116,
   "id": "3d260744-cdb1-4f7e-a63b-9421e0c822e0",
   "metadata": {},
   "outputs": [],
   "source": [
    "top_grossing['revenue'] = top_grossing['revenue'] / 1000000"
   ]
  },
  {
   "cell_type": "code",
   "execution_count": 117,
   "id": "395a87eb-0cda-43ef-beb7-e1f75ec52731",
   "metadata": {},
   "outputs": [],
   "source": [
    "top_grossing['revenue'] = top_grossing['revenue'].apply(round)"
   ]
  },
  {
   "cell_type": "code",
   "execution_count": 131,
   "id": "a609adcf-00fc-4647-8e6b-156a2e04788a",
   "metadata": {},
   "outputs": [
    {
     "data": {
      "text/plain": [
       "2009"
      ]
     },
     "execution_count": 131,
     "metadata": {},
     "output_type": "execute_result"
    }
   ],
   "source": [
    "top_grossing['year'][0].astype(int)"
   ]
  },
  {
   "cell_type": "code",
   "execution_count": 171,
   "id": "420bdb3f-1ca2-4ab5-9ad1-bd943ac703f4",
   "metadata": {},
   "outputs": [],
   "source": [
    "top_grossing = top_grossing.reset_index()"
   ]
  },
  {
   "cell_type": "code",
   "execution_count": 132,
   "id": "21683c59-6612-4e06-97a3-7a7b07e15562",
   "metadata": {},
   "outputs": [],
   "source": [
    "def year(df,index):\n",
    "    num = df['year'][index].astype(int)\n",
    "    \n",
    "    return num"
   ]
  },
  {
   "cell_type": "code",
   "execution_count": 160,
   "id": "9b710570-3128-4b44-b818-2dfb13d86b14",
   "metadata": {},
   "outputs": [],
   "source": [
    "def year(df,index):\n",
    "    num = df['year'][index].astype(int)\n",
    "    num = num.astype(str)\n",
    "    \n",
    "    return num"
   ]
  },
  {
   "cell_type": "code",
   "execution_count": 161,
   "id": "1d9e05cf-7e11-4ce3-9ed7-91fef3e55985",
   "metadata": {},
   "outputs": [
    {
     "data": {
      "text/plain": [
       "'2010'"
      ]
     },
     "execution_count": 161,
     "metadata": {},
     "output_type": "execute_result"
    }
   ],
   "source": [
    "year(top20,6)"
   ]
  },
  {
   "cell_type": "code",
   "execution_count": 172,
   "id": "db1db93c-afdc-4fdf-be61-b1cb93376e8d",
   "metadata": {},
   "outputs": [],
   "source": [
    "import pickle\n",
    "pickle.dump(top_grossing ,open('top_grossing.pkl','wb'))"
   ]
  },
  {
   "cell_type": "code",
   "execution_count": null,
   "id": "facaf11a-494b-4eba-be01-d685235e14c9",
   "metadata": {},
   "outputs": [],
   "source": [
    "data.sort_values(by ='popularity',ascending = False).head(10)"
   ]
  },
  {
   "cell_type": "code",
   "execution_count": 122,
   "id": "414ef0d2-783b-4b29-a392-ae3ffc16b1b8",
   "metadata": {},
   "outputs": [],
   "source": [
    "vote_count_data = data[data['vote_count'] > 500]"
   ]
  },
  {
   "cell_type": "code",
   "execution_count": 123,
   "id": "e5591431-7d03-445e-a834-a4fd4f06dab7",
   "metadata": {},
   "outputs": [],
   "source": [
    "vote_count_data = vote_count_data[['movie_id','title','vote_count','vote_average','year']]"
   ]
  },
  {
   "cell_type": "code",
   "execution_count": 124,
   "id": "f1c2730a-419b-4ff7-990e-af8819274a5a",
   "metadata": {},
   "outputs": [],
   "source": [
    "top20 = vote_count_data.sort_values(by='vote_count', ascending=False)"
   ]
  },
  {
   "cell_type": "code",
   "execution_count": 168,
   "id": "1d27c65d-e62d-48c4-a31c-128e3f825fe8",
   "metadata": {},
   "outputs": [],
   "source": [
    "top20 = top20.reset_index()"
   ]
  },
  {
   "cell_type": "code",
   "execution_count": 169,
   "id": "06fab395-4477-49ea-84df-6d94e24ae39c",
   "metadata": {},
   "outputs": [
    {
     "data": {
      "text/html": [
       "<div>\n",
       "<style scoped>\n",
       "    .dataframe tbody tr th:only-of-type {\n",
       "        vertical-align: middle;\n",
       "    }\n",
       "\n",
       "    .dataframe tbody tr th {\n",
       "        vertical-align: top;\n",
       "    }\n",
       "\n",
       "    .dataframe thead th {\n",
       "        text-align: right;\n",
       "    }\n",
       "</style>\n",
       "<table border=\"1\" class=\"dataframe\">\n",
       "  <thead>\n",
       "    <tr style=\"text-align: right;\">\n",
       "      <th></th>\n",
       "      <th>index</th>\n",
       "      <th>movie_id</th>\n",
       "      <th>title</th>\n",
       "      <th>vote_count</th>\n",
       "      <th>vote_average</th>\n",
       "      <th>year</th>\n",
       "    </tr>\n",
       "  </thead>\n",
       "  <tbody>\n",
       "    <tr>\n",
       "      <th>0</th>\n",
       "      <td>96</td>\n",
       "      <td>27205</td>\n",
       "      <td>Inception</td>\n",
       "      <td>13752</td>\n",
       "      <td>8.1</td>\n",
       "      <td>2010.0</td>\n",
       "    </tr>\n",
       "    <tr>\n",
       "      <th>1</th>\n",
       "      <td>65</td>\n",
       "      <td>155</td>\n",
       "      <td>The Dark Knight</td>\n",
       "      <td>12002</td>\n",
       "      <td>8.2</td>\n",
       "      <td>2008.0</td>\n",
       "    </tr>\n",
       "    <tr>\n",
       "      <th>2</th>\n",
       "      <td>0</td>\n",
       "      <td>19995</td>\n",
       "      <td>Avatar</td>\n",
       "      <td>11800</td>\n",
       "      <td>7.2</td>\n",
       "      <td>2009.0</td>\n",
       "    </tr>\n",
       "    <tr>\n",
       "      <th>3</th>\n",
       "      <td>16</td>\n",
       "      <td>24428</td>\n",
       "      <td>The Avengers</td>\n",
       "      <td>11776</td>\n",
       "      <td>7.4</td>\n",
       "      <td>2012.0</td>\n",
       "    </tr>\n",
       "    <tr>\n",
       "      <th>4</th>\n",
       "      <td>788</td>\n",
       "      <td>293660</td>\n",
       "      <td>Deadpool</td>\n",
       "      <td>10995</td>\n",
       "      <td>7.4</td>\n",
       "      <td>2016.0</td>\n",
       "    </tr>\n",
       "    <tr>\n",
       "      <th>...</th>\n",
       "      <td>...</td>\n",
       "      <td>...</td>\n",
       "      <td>...</td>\n",
       "      <td>...</td>\n",
       "      <td>...</td>\n",
       "      <td>...</td>\n",
       "    </tr>\n",
       "    <tr>\n",
       "      <th>1608</th>\n",
       "      <td>1184</td>\n",
       "      <td>820</td>\n",
       "      <td>JFK</td>\n",
       "      <td>502</td>\n",
       "      <td>7.5</td>\n",
       "      <td>1991.0</td>\n",
       "    </tr>\n",
       "    <tr>\n",
       "      <th>1609</th>\n",
       "      <td>1119</td>\n",
       "      <td>37233</td>\n",
       "      <td>The Firm</td>\n",
       "      <td>501</td>\n",
       "      <td>6.6</td>\n",
       "      <td>1993.0</td>\n",
       "    </tr>\n",
       "    <tr>\n",
       "      <th>1610</th>\n",
       "      <td>2067</td>\n",
       "      <td>4566</td>\n",
       "      <td>Michael Clayton</td>\n",
       "      <td>501</td>\n",
       "      <td>6.5</td>\n",
       "      <td>2007.0</td>\n",
       "    </tr>\n",
       "    <tr>\n",
       "      <th>1611</th>\n",
       "      <td>989</td>\n",
       "      <td>38319</td>\n",
       "      <td>Your Highness</td>\n",
       "      <td>501</td>\n",
       "      <td>5.2</td>\n",
       "      <td>2011.0</td>\n",
       "    </tr>\n",
       "    <tr>\n",
       "      <th>1612</th>\n",
       "      <td>1058</td>\n",
       "      <td>64328</td>\n",
       "      <td>The Muppets</td>\n",
       "      <td>501</td>\n",
       "      <td>6.5</td>\n",
       "      <td>2011.0</td>\n",
       "    </tr>\n",
       "  </tbody>\n",
       "</table>\n",
       "<p>1613 rows × 6 columns</p>\n",
       "</div>"
      ],
      "text/plain": [
       "      index  movie_id            title  vote_count  vote_average    year\n",
       "0        96     27205        Inception       13752           8.1  2010.0\n",
       "1        65       155  The Dark Knight       12002           8.2  2008.0\n",
       "2         0     19995           Avatar       11800           7.2  2009.0\n",
       "3        16     24428     The Avengers       11776           7.4  2012.0\n",
       "4       788    293660         Deadpool       10995           7.4  2016.0\n",
       "...     ...       ...              ...         ...           ...     ...\n",
       "1608   1184       820              JFK         502           7.5  1991.0\n",
       "1609   1119     37233         The Firm         501           6.6  1993.0\n",
       "1610   2067      4566  Michael Clayton         501           6.5  2007.0\n",
       "1611    989     38319    Your Highness         501           5.2  2011.0\n",
       "1612   1058     64328      The Muppets         501           6.5  2011.0\n",
       "\n",
       "[1613 rows x 6 columns]"
      ]
     },
     "execution_count": 169,
     "metadata": {},
     "output_type": "execute_result"
    }
   ],
   "source": [
    "top20"
   ]
  },
  {
   "cell_type": "code",
   "execution_count": 173,
   "id": "cee8cc05-97e6-4553-a497-360e18e266ac",
   "metadata": {},
   "outputs": [],
   "source": [
    "def caption(index):\n",
    "    \n",
    "    return 'Ratings : '+top20['vote_average'].values[index].astype(str)"
   ]
  },
  {
   "cell_type": "code",
   "execution_count": 175,
   "id": "10fa4e4b-5d6c-48da-8aed-17b41d292474",
   "metadata": {},
   "outputs": [],
   "source": [
    "def revenew(index):\n",
    "    \n",
    "    return 'Revenue : '+'$'+top_grossing['revenue'].values[index].astype(str)+'M'"
   ]
  },
  {
   "cell_type": "code",
   "execution_count": 179,
   "id": "4dec4b00-516f-4def-b888-dc890e6e0867",
   "metadata": {},
   "outputs": [],
   "source": [
    "def year(df,index):\n",
    "    num = df['year'][index].astype(int)\n",
    "    num = num.astype(str)\n",
    "    \n",
    "    return ' ' + \"(\" + num + \")\""
   ]
  },
  {
   "cell_type": "code",
   "execution_count": 184,
   "id": "99f0445b-59cc-4bd6-9b15-db675e3440ae",
   "metadata": {},
   "outputs": [],
   "source": [
    "def title(df,index):\n",
    "    tit = df['title'].values[index]\n",
    "    num = df['year'][index].astype(int)\n",
    "    num = num.astype(str)\n",
    "    \n",
    "    return tit + ' ' + \"(\" + num + \")\""
   ]
  },
  {
   "cell_type": "code",
   "execution_count": 190,
   "id": "e391968f-1008-4636-853e-b406810ada65",
   "metadata": {},
   "outputs": [
    {
     "data": {
      "text/plain": [
       "'Titanic (1997)'"
      ]
     },
     "execution_count": 190,
     "metadata": {},
     "output_type": "execute_result"
    }
   ],
   "source": [
    "title(top_grossing,1)"
   ]
  },
  {
   "cell_type": "code",
   "execution_count": 176,
   "id": "21586e6a-bd61-4df2-b0dc-2866eba6dea1",
   "metadata": {},
   "outputs": [
    {
     "data": {
      "text/plain": [
       "'Revenue : $2788M'"
      ]
     },
     "execution_count": 176,
     "metadata": {},
     "output_type": "execute_result"
    }
   ],
   "source": [
    "revenew(0)"
   ]
  },
  {
   "cell_type": "code",
   "execution_count": 174,
   "id": "062eb7af-2697-4152-8ec0-1612c8a877b8",
   "metadata": {},
   "outputs": [
    {
     "data": {
      "text/plain": [
       "'Ratings : 8.1'"
      ]
     },
     "execution_count": 174,
     "metadata": {},
     "output_type": "execute_result"
    }
   ],
   "source": [
    "caption(0)"
   ]
  },
  {
   "cell_type": "code",
   "execution_count": 126,
   "id": "7a703713-7ae0-4684-890a-af7d778f46d5",
   "metadata": {},
   "outputs": [
    {
     "data": {
      "text/plain": [
       "numpy.str_"
      ]
     },
     "execution_count": 126,
     "metadata": {},
     "output_type": "execute_result"
    }
   ],
   "source": [
    "type(top20['vote_average'].values[4].astype(str))"
   ]
  },
  {
   "cell_type": "code",
   "execution_count": 127,
   "id": "418caeb4-a850-4971-93c7-12ba44aefdd2",
   "metadata": {},
   "outputs": [],
   "source": [
    "def fetch_poster(movie_id):\n",
    "    url = \"https://api.themoviedb.org/3/movie/{}?api_key=8265bd1679663a7ea12ac168da84d2e8&language=en-US\".format(movie_id)\n",
    "    data = requests.get(url)\n",
    "    data = data.json()\n",
    "    poster_path = data['poster_path']\n",
    "    full_path = \"https://image.tmdb.org/t/p/w500/\" + poster_path\n",
    "    return full_path"
   ]
  },
  {
   "cell_type": "code",
   "execution_count": 128,
   "id": "dfb78337-9b7d-4ca8-ac7c-75a4c6aa6872",
   "metadata": {},
   "outputs": [
    {
     "data": {
      "text/plain": [
       "'https://image.tmdb.org/t/p/w500//jRXYjXNq0Cs2TcJjLkki24MLp7u.jpg'"
      ]
     },
     "execution_count": 128,
     "metadata": {},
     "output_type": "execute_result"
    }
   ],
   "source": [
    "fetch_poster(top20['movie_id'].values[2])"
   ]
  },
  {
   "cell_type": "code",
   "execution_count": 170,
   "id": "181cd71d-a89e-4d21-a382-0f9e06b9ccb7",
   "metadata": {},
   "outputs": [],
   "source": [
    "import pickle\n",
    "pickle.dump(top20 ,open('top20.pkl','wb'))"
   ]
  },
  {
   "cell_type": "code",
   "execution_count": null,
   "id": "a9f263b0-ef4e-44c3-8a74-1746920fbc2c",
   "metadata": {},
   "outputs": [],
   "source": []
  },
  {
   "cell_type": "code",
   "execution_count": 7,
   "id": "bb5160ae-9871-4115-97d7-f9b9c67cb869",
   "metadata": {},
   "outputs": [],
   "source": [
    "data= data[['movie_id','title','overview','genres','keywords','cast','crew']]"
   ]
  },
  {
   "cell_type": "code",
   "execution_count": 8,
   "id": "b5b0c52f-d876-4148-bd07-8f608174f787",
   "metadata": {},
   "outputs": [],
   "source": [
    "data.dropna(inplace=True)"
   ]
  },
  {
   "cell_type": "code",
   "execution_count": 9,
   "id": "37e20dad-654e-4138-a0d4-6952b98da876",
   "metadata": {},
   "outputs": [],
   "source": [
    "import ast\n",
    "\n",
    "def convert(text):\n",
    "    L = []\n",
    "    for i in ast.literal_eval(text):\n",
    "        L.append(i['name']) \n",
    "    return L "
   ]
  },
  {
   "cell_type": "code",
   "execution_count": 10,
   "id": "49e36334-d832-470a-b58f-b60f2ac3afa9",
   "metadata": {},
   "outputs": [],
   "source": [
    "data['genres'] = data['genres'].apply(convert)"
   ]
  },
  {
   "cell_type": "code",
   "execution_count": 11,
   "id": "15606433-3596-408d-84de-df69c02e198d",
   "metadata": {},
   "outputs": [],
   "source": [
    "data['keywords'] = data['keywords'].apply(convert)"
   ]
  },
  {
   "cell_type": "code",
   "execution_count": 12,
   "id": "d7b29656-649c-440b-a644-40fb66835c26",
   "metadata": {},
   "outputs": [
    {
     "data": {
      "text/html": [
       "<div>\n",
       "<style scoped>\n",
       "    .dataframe tbody tr th:only-of-type {\n",
       "        vertical-align: middle;\n",
       "    }\n",
       "\n",
       "    .dataframe tbody tr th {\n",
       "        vertical-align: top;\n",
       "    }\n",
       "\n",
       "    .dataframe thead th {\n",
       "        text-align: right;\n",
       "    }\n",
       "</style>\n",
       "<table border=\"1\" class=\"dataframe\">\n",
       "  <thead>\n",
       "    <tr style=\"text-align: right;\">\n",
       "      <th></th>\n",
       "      <th>movie_id</th>\n",
       "      <th>title</th>\n",
       "      <th>overview</th>\n",
       "      <th>genres</th>\n",
       "      <th>keywords</th>\n",
       "      <th>cast</th>\n",
       "      <th>crew</th>\n",
       "    </tr>\n",
       "  </thead>\n",
       "  <tbody>\n",
       "    <tr>\n",
       "      <th>0</th>\n",
       "      <td>19995</td>\n",
       "      <td>Avatar</td>\n",
       "      <td>In the 22nd century, a paraplegic Marine is di...</td>\n",
       "      <td>[Action, Adventure, Fantasy, Science Fiction]</td>\n",
       "      <td>[culture clash, future, space war, space colon...</td>\n",
       "      <td>[{\"cast_id\": 242, \"character\": \"Jake Sully\", \"...</td>\n",
       "      <td>[{\"credit_id\": \"52fe48009251416c750aca23\", \"de...</td>\n",
       "    </tr>\n",
       "  </tbody>\n",
       "</table>\n",
       "</div>"
      ],
      "text/plain": [
       "   movie_id   title                                           overview  \\\n",
       "0     19995  Avatar  In the 22nd century, a paraplegic Marine is di...   \n",
       "\n",
       "                                          genres  \\\n",
       "0  [Action, Adventure, Fantasy, Science Fiction]   \n",
       "\n",
       "                                            keywords  \\\n",
       "0  [culture clash, future, space war, space colon...   \n",
       "\n",
       "                                                cast  \\\n",
       "0  [{\"cast_id\": 242, \"character\": \"Jake Sully\", \"...   \n",
       "\n",
       "                                                crew  \n",
       "0  [{\"credit_id\": \"52fe48009251416c750aca23\", \"de...  "
      ]
     },
     "execution_count": 12,
     "metadata": {},
     "output_type": "execute_result"
    }
   ],
   "source": [
    "data.head(1)"
   ]
  },
  {
   "cell_type": "code",
   "execution_count": 13,
   "id": "f272d3fb-204a-4aac-9fd6-c63111991bba",
   "metadata": {},
   "outputs": [],
   "source": [
    "def convert3(text):\n",
    "    L = []\n",
    "    counter = 0\n",
    "    for i in ast.literal_eval(text):\n",
    "        if counter < 3:\n",
    "            L.append(i['name'])\n",
    "        counter+=1\n",
    "    return L "
   ]
  },
  {
   "cell_type": "code",
   "execution_count": 14,
   "id": "6099db35-d658-4c7f-8846-727fbf2fe63f",
   "metadata": {},
   "outputs": [
    {
     "data": {
      "text/html": [
       "<div>\n",
       "<style scoped>\n",
       "    .dataframe tbody tr th:only-of-type {\n",
       "        vertical-align: middle;\n",
       "    }\n",
       "\n",
       "    .dataframe tbody tr th {\n",
       "        vertical-align: top;\n",
       "    }\n",
       "\n",
       "    .dataframe thead th {\n",
       "        text-align: right;\n",
       "    }\n",
       "</style>\n",
       "<table border=\"1\" class=\"dataframe\">\n",
       "  <thead>\n",
       "    <tr style=\"text-align: right;\">\n",
       "      <th></th>\n",
       "      <th>movie_id</th>\n",
       "      <th>title</th>\n",
       "      <th>overview</th>\n",
       "      <th>genres</th>\n",
       "      <th>keywords</th>\n",
       "      <th>cast</th>\n",
       "      <th>crew</th>\n",
       "    </tr>\n",
       "  </thead>\n",
       "  <tbody>\n",
       "    <tr>\n",
       "      <th>0</th>\n",
       "      <td>19995</td>\n",
       "      <td>Avatar</td>\n",
       "      <td>In the 22nd century, a paraplegic Marine is di...</td>\n",
       "      <td>[Action, Adventure, Fantasy, Science Fiction]</td>\n",
       "      <td>[culture clash, future, space war, space colon...</td>\n",
       "      <td>[Sam Worthington, Zoe Saldana, Sigourney Weaver]</td>\n",
       "      <td>[{\"credit_id\": \"52fe48009251416c750aca23\", \"de...</td>\n",
       "    </tr>\n",
       "  </tbody>\n",
       "</table>\n",
       "</div>"
      ],
      "text/plain": [
       "   movie_id   title                                           overview  \\\n",
       "0     19995  Avatar  In the 22nd century, a paraplegic Marine is di...   \n",
       "\n",
       "                                          genres  \\\n",
       "0  [Action, Adventure, Fantasy, Science Fiction]   \n",
       "\n",
       "                                            keywords  \\\n",
       "0  [culture clash, future, space war, space colon...   \n",
       "\n",
       "                                               cast  \\\n",
       "0  [Sam Worthington, Zoe Saldana, Sigourney Weaver]   \n",
       "\n",
       "                                                crew  \n",
       "0  [{\"credit_id\": \"52fe48009251416c750aca23\", \"de...  "
      ]
     },
     "execution_count": 14,
     "metadata": {},
     "output_type": "execute_result"
    }
   ],
   "source": [
    "#data['cast'] = data['cast'].apply(lambda x:x[0:3]) # Alternate way\n",
    "data['cast'] = data['cast'].apply(convert3)\n",
    "data.head(1)"
   ]
  },
  {
   "cell_type": "code",
   "execution_count": 15,
   "id": "5adcf320-9e29-426e-bab5-4f6292a039a3",
   "metadata": {},
   "outputs": [],
   "source": [
    "def fetch_director(text):\n",
    "    L = []\n",
    "    for i in ast.literal_eval(text):\n",
    "        if i['job'] == 'Director':\n",
    "            L.append(i['name'])\n",
    "    return L "
   ]
  },
  {
   "cell_type": "code",
   "execution_count": 16,
   "id": "ee050ac5-06ec-4803-aec9-bcf10a129014",
   "metadata": {},
   "outputs": [],
   "source": [
    "data['crew'] = data['crew'].apply(fetch_director)"
   ]
  },
  {
   "cell_type": "code",
   "execution_count": 17,
   "id": "cbb7ccf8-4ceb-414a-8d00-7f1ab5de1a40",
   "metadata": {},
   "outputs": [],
   "source": [
    "data['overview'] = data['overview'].apply(lambda x:x.split())"
   ]
  },
  {
   "cell_type": "code",
   "execution_count": 18,
   "id": "7482a5bc-5336-4d95-bb1c-61b8966b5ddc",
   "metadata": {},
   "outputs": [],
   "source": [
    "def collapse(L):\n",
    "    L1 = []\n",
    "    for i in L:\n",
    "        L1.append(i.replace(\" \",\"\"))\n",
    "    return L1"
   ]
  },
  {
   "cell_type": "code",
   "execution_count": 19,
   "id": "d392da17-4910-46cb-a9f2-8d77c9b4f7fa",
   "metadata": {},
   "outputs": [],
   "source": [
    "data['cast'] = data['cast'].apply(collapse)\n",
    "data['crew'] = data['crew'].apply(collapse)\n",
    "data['genres'] = data['genres'].apply(collapse)\n",
    "data['keywords'] = data['keywords'].apply(collapse)"
   ]
  },
  {
   "cell_type": "code",
   "execution_count": 20,
   "id": "eb27a2da-1303-42d4-b75b-a192df22a4e9",
   "metadata": {},
   "outputs": [],
   "source": [
    "data['tags'] = data['overview'] + data['genres'] + data['keywords'] + data['cast'] + data['crew']"
   ]
  },
  {
   "cell_type": "code",
   "execution_count": 23,
   "id": "1e61d467-05d7-4846-897b-9be64b65abfe",
   "metadata": {},
   "outputs": [
    {
     "data": {
      "text/plain": [
       "0       [In, the, 22nd, century,, a, paraplegic, Marin...\n",
       "1       [Captain, Barbossa,, long, believed, to, be, d...\n",
       "2       [A, cryptic, message, from, Bond’s, past, send...\n",
       "3       [Following, the, death, of, District, Attorney...\n",
       "4       [John, Carter, is, a, war-weary,, former, mili...\n",
       "                              ...                        \n",
       "4804    [El, Mariachi, just, wants, to, play, his, gui...\n",
       "4805    [A, newlywed, couple's, honeymoon, is, upended...\n",
       "4806    [\"Signed,, Sealed,, Delivered\", introduces, a,...\n",
       "4807    [When, ambitious, New, York, attorney, Sam, is...\n",
       "4808    [Ever, since, the, second, grade, when, he, fi...\n",
       "Name: tags, Length: 4806, dtype: object"
      ]
     },
     "execution_count": 23,
     "metadata": {},
     "output_type": "execute_result"
    }
   ],
   "source": [
    "data['tags']"
   ]
  },
  {
   "cell_type": "code",
   "execution_count": 24,
   "id": "39717c72-a6ff-4bd8-8f8c-ee7b0acf7086",
   "metadata": {},
   "outputs": [],
   "source": [
    "new = data.drop(columns=['overview','genres','keywords','cast','crew'])"
   ]
  },
  {
   "cell_type": "code",
   "execution_count": 25,
   "id": "acdcad8a-8e55-4b75-ac75-5328d3dd8a1e",
   "metadata": {},
   "outputs": [
    {
     "data": {
      "text/plain": [
       "(4806, 3)"
      ]
     },
     "execution_count": 25,
     "metadata": {},
     "output_type": "execute_result"
    }
   ],
   "source": [
    "new.shape"
   ]
  },
  {
   "cell_type": "code",
   "execution_count": 26,
   "id": "e87545e2-8188-4382-acb7-fa7e9213f16d",
   "metadata": {},
   "outputs": [
    {
     "data": {
      "text/html": [
       "<div>\n",
       "<style scoped>\n",
       "    .dataframe tbody tr th:only-of-type {\n",
       "        vertical-align: middle;\n",
       "    }\n",
       "\n",
       "    .dataframe tbody tr th {\n",
       "        vertical-align: top;\n",
       "    }\n",
       "\n",
       "    .dataframe thead th {\n",
       "        text-align: right;\n",
       "    }\n",
       "</style>\n",
       "<table border=\"1\" class=\"dataframe\">\n",
       "  <thead>\n",
       "    <tr style=\"text-align: right;\">\n",
       "      <th></th>\n",
       "      <th>movie_id</th>\n",
       "      <th>title</th>\n",
       "      <th>tags</th>\n",
       "    </tr>\n",
       "  </thead>\n",
       "  <tbody>\n",
       "    <tr>\n",
       "      <th>0</th>\n",
       "      <td>19995</td>\n",
       "      <td>Avatar</td>\n",
       "      <td>In the 22nd century, a paraplegic Marine is di...</td>\n",
       "    </tr>\n",
       "    <tr>\n",
       "      <th>1</th>\n",
       "      <td>285</td>\n",
       "      <td>Pirates of the Caribbean: At World's End</td>\n",
       "      <td>Captain Barbossa, long believed to be dead, ha...</td>\n",
       "    </tr>\n",
       "    <tr>\n",
       "      <th>2</th>\n",
       "      <td>206647</td>\n",
       "      <td>Spectre</td>\n",
       "      <td>A cryptic message from Bond’s past sends him o...</td>\n",
       "    </tr>\n",
       "    <tr>\n",
       "      <th>3</th>\n",
       "      <td>49026</td>\n",
       "      <td>The Dark Knight Rises</td>\n",
       "      <td>Following the death of District Attorney Harve...</td>\n",
       "    </tr>\n",
       "    <tr>\n",
       "      <th>4</th>\n",
       "      <td>49529</td>\n",
       "      <td>John Carter</td>\n",
       "      <td>John Carter is a war-weary, former military ca...</td>\n",
       "    </tr>\n",
       "  </tbody>\n",
       "</table>\n",
       "</div>"
      ],
      "text/plain": [
       "   movie_id                                     title  \\\n",
       "0     19995                                    Avatar   \n",
       "1       285  Pirates of the Caribbean: At World's End   \n",
       "2    206647                                   Spectre   \n",
       "3     49026                     The Dark Knight Rises   \n",
       "4     49529                               John Carter   \n",
       "\n",
       "                                                tags  \n",
       "0  In the 22nd century, a paraplegic Marine is di...  \n",
       "1  Captain Barbossa, long believed to be dead, ha...  \n",
       "2  A cryptic message from Bond’s past sends him o...  \n",
       "3  Following the death of District Attorney Harve...  \n",
       "4  John Carter is a war-weary, former military ca...  "
      ]
     },
     "execution_count": 26,
     "metadata": {},
     "output_type": "execute_result"
    }
   ],
   "source": [
    "new['tags'] = new['tags'].apply(lambda x: \" \".join(x))\n",
    "new.head()"
   ]
  },
  {
   "cell_type": "code",
   "execution_count": 91,
   "id": "78484882-2ae4-4747-ac75-56738cd15ed8",
   "metadata": {},
   "outputs": [
    {
     "data": {
      "text/html": [
       "<div>\n",
       "<style scoped>\n",
       "    .dataframe tbody tr th:only-of-type {\n",
       "        vertical-align: middle;\n",
       "    }\n",
       "\n",
       "    .dataframe tbody tr th {\n",
       "        vertical-align: top;\n",
       "    }\n",
       "\n",
       "    .dataframe thead th {\n",
       "        text-align: right;\n",
       "    }\n",
       "</style>\n",
       "<table border=\"1\" class=\"dataframe\">\n",
       "  <thead>\n",
       "    <tr style=\"text-align: right;\">\n",
       "      <th></th>\n",
       "      <th>movie_id</th>\n",
       "      <th>title</th>\n",
       "      <th>tags</th>\n",
       "    </tr>\n",
       "  </thead>\n",
       "  <tbody>\n",
       "    <tr>\n",
       "      <th>2144</th>\n",
       "      <td>1710</td>\n",
       "      <td>Copycat</td>\n",
       "      <td>an agoraphobic psychologist and a female detec...</td>\n",
       "    </tr>\n",
       "    <tr>\n",
       "      <th>708</th>\n",
       "      <td>294254</td>\n",
       "      <td>Maze Runner: The Scorch Trials</td>\n",
       "      <td>thomas and his fellow gladers face their great...</td>\n",
       "    </tr>\n",
       "    <tr>\n",
       "      <th>486</th>\n",
       "      <td>274854</td>\n",
       "      <td>The Last Witch Hunter</td>\n",
       "      <td>the modern world holds many secrets, but by fa...</td>\n",
       "    </tr>\n",
       "    <tr>\n",
       "      <th>4403</th>\n",
       "      <td>18206</td>\n",
       "      <td>Alone With Her</td>\n",
       "      <td>the harrowing story of a disturbed young man's...</td>\n",
       "    </tr>\n",
       "    <tr>\n",
       "      <th>1461</th>\n",
       "      <td>20763</td>\n",
       "      <td>Radio Flyer</td>\n",
       "      <td>a father reminisces about his childhood when h...</td>\n",
       "    </tr>\n",
       "  </tbody>\n",
       "</table>\n",
       "</div>"
      ],
      "text/plain": [
       "      movie_id                           title  \\\n",
       "2144      1710                         Copycat   \n",
       "708     294254  Maze Runner: The Scorch Trials   \n",
       "486     274854           The Last Witch Hunter   \n",
       "4403     18206                  Alone With Her   \n",
       "1461     20763                     Radio Flyer   \n",
       "\n",
       "                                                   tags  \n",
       "2144  an agoraphobic psychologist and a female detec...  \n",
       "708   thomas and his fellow gladers face their great...  \n",
       "486   the modern world holds many secrets, but by fa...  \n",
       "4403  the harrowing story of a disturbed young man's...  \n",
       "1461  a father reminisces about his childhood when h...  "
      ]
     },
     "execution_count": 91,
     "metadata": {},
     "output_type": "execute_result"
    }
   ],
   "source": [
    "new.sample(5)"
   ]
  },
  {
   "cell_type": "code",
   "execution_count": 71,
   "id": "61a81a2e-ee35-4e72-841b-6569a1e1cd39",
   "metadata": {},
   "outputs": [],
   "source": [
    "import nltk\n",
    "from nltk.stem.porter import PorterStemmer\n",
    "ps = PorterStemmer()"
   ]
  },
  {
   "cell_type": "code",
   "execution_count": 37,
   "id": "1f53a2d8-9bdc-4724-b623-2193122f179c",
   "metadata": {},
   "outputs": [],
   "source": [
    "new['tags'] = new['tags'].apply(ps.stem)"
   ]
  },
  {
   "cell_type": "code",
   "execution_count": 40,
   "id": "d4db2a68-047d-461a-9661-b661783cafaf",
   "metadata": {},
   "outputs": [
    {
     "data": {
      "text/plain": [
       "\"captain barbossa, long believed to be dead, has come back to life and is headed to the edge of the earth with will turner and elizabeth swann. but nothing is quite as it seems. adventure fantasy action ocean drugabuse exoticisland eastindiatradingcompany loveofone'slife traitor shipwreck strongwoman ship alliance calypso afterlife fighter pirate swashbuckler aftercreditsstinger johnnydepp orlandobloom keiraknightley goreverbinski\""
      ]
     },
     "execution_count": 40,
     "metadata": {},
     "output_type": "execute_result"
    }
   ],
   "source": [
    "new['tags'][1]"
   ]
  },
  {
   "cell_type": "code",
   "execution_count": 41,
   "id": "25d63f33-00bb-4943-922c-f6bb847e7906",
   "metadata": {},
   "outputs": [],
   "source": [
    "from sklearn.feature_extraction.text import CountVectorizer\n",
    "cv = CountVectorizer(max_features=5000,stop_words='english',lowercase=True)"
   ]
  },
  {
   "cell_type": "code",
   "execution_count": 42,
   "id": "80374e09-3805-4455-aadd-59ccf2f14bea",
   "metadata": {},
   "outputs": [],
   "source": [
    "vectors = cv.fit_transform(new['tags']).toarray()"
   ]
  },
  {
   "cell_type": "code",
   "execution_count": 43,
   "id": "ac90e75d-e4c0-42f6-9cc3-491d8e12e1f7",
   "metadata": {},
   "outputs": [
    {
     "data": {
      "text/plain": [
       "(4806, 5000)"
      ]
     },
     "execution_count": 43,
     "metadata": {},
     "output_type": "execute_result"
    }
   ],
   "source": [
    "vectors.shape"
   ]
  },
  {
   "cell_type": "code",
   "execution_count": 44,
   "id": "701c4855-76bf-4a69-bf64-57b4270a4f81",
   "metadata": {},
   "outputs": [],
   "source": [
    "from sklearn.metrics.pairwise import cosine_similarity"
   ]
  },
  {
   "cell_type": "code",
   "execution_count": 45,
   "id": "5d0b17ed-134d-4c67-9b7b-c8aba2694f75",
   "metadata": {},
   "outputs": [],
   "source": [
    "similarty = cosine_similarity(vectors)"
   ]
  },
  {
   "cell_type": "code",
   "execution_count": 54,
   "id": "424deefe-fb39-4930-a46d-8ddcc1f7e054",
   "metadata": {},
   "outputs": [
    {
     "data": {
      "text/plain": [
       "(4806,)"
      ]
     },
     "execution_count": 54,
     "metadata": {},
     "output_type": "execute_result"
    }
   ],
   "source": [
    "similarty[0].shape"
   ]
  },
  {
   "cell_type": "code",
   "execution_count": 112,
   "id": "bdcfdd6a-9cfb-48ff-820c-428116746a48",
   "metadata": {},
   "outputs": [],
   "source": [
    "def recommend(movie):\n",
    "    index = new[new['title'] == movie].index[0]\n",
    "    distances = sorted(list(enumerate(similarty[index])),reverse=True,key = lambda x: x[1])\n",
    "    for i in distances[1:6]:\n",
    "        print(type(new.iloc[i[0]].title))"
   ]
  },
  {
   "cell_type": "code",
   "execution_count": 113,
   "id": "c18b2f2e-56fd-44c1-9a9a-b42aaf69513e",
   "metadata": {},
   "outputs": [
    {
     "name": "stdout",
     "output_type": "stream",
     "text": [
      "<class 'str'>\n",
      "<class 'str'>\n",
      "<class 'str'>\n",
      "<class 'str'>\n",
      "<class 'str'>\n"
     ]
    }
   ],
   "source": [
    "recommend(\"The Avengers\")"
   ]
  },
  {
   "cell_type": "code",
   "execution_count": 94,
   "id": "72cef1f2-54a3-432f-808d-48cf9a6a395c",
   "metadata": {},
   "outputs": [],
   "source": [
    "import pickle\n",
    "pickle.dump(new,open('movie_list.pkl','wb'))\n",
    "pickle.dump(similarty,open('similarity.pkl','wb'))"
   ]
  },
  {
   "cell_type": "code",
   "execution_count": 104,
   "id": "bf6eee71-d110-4949-8124-7a1eb4ecbcea",
   "metadata": {},
   "outputs": [],
   "source": [
    "def recommend1(movie):\n",
    "    index = new[new['title'] == movie].index[0]\n",
    "    distances = sorted(list(enumerate(similarty[index])),reverse=True,key = lambda x: x[1])\n",
    "    recc_movie = []\n",
    "    for i in distances: \n",
    "        recc_movie.append(new.iloc[i[0]].title)\n",
    "\n",
    "        return recc_movie"
   ]
  },
  {
   "cell_type": "code",
   "execution_count": 105,
   "id": "d1215943-9183-41d2-9c21-6b16ee77c694",
   "metadata": {},
   "outputs": [
    {
     "data": {
      "text/plain": [
       "['The Avengers']"
      ]
     },
     "execution_count": 105,
     "metadata": {},
     "output_type": "execute_result"
    }
   ],
   "source": [
    "recommend1('The Avengers')"
   ]
  },
  {
   "cell_type": "code",
   "execution_count": 159,
   "id": "8a5c472b-48fc-49d8-845d-bfcb65d74b77",
   "metadata": {},
   "outputs": [],
   "source": [
    "def recommend(movie):\n",
    "    index = new[new['title'] == movie].index[0]\n",
    "    distances = sorted(list(enumerate(similarty[index])),reverse=True,key = lambda x: x[1])\n",
    "    recc_movie = []\n",
    "    for i in distances[1:6]:\n",
    "        recc_movie.append(new.iloc[i[0]].title)\n",
    "        \n",
    "    return recc_movie\n",
    "    "
   ]
  },
  {
   "cell_type": "code",
   "execution_count": 160,
   "id": "55917817-a284-4d74-894d-c74f5f3a2841",
   "metadata": {},
   "outputs": [
    {
     "data": {
      "text/plain": [
       "['Avengers: Age of Ultron',\n",
       " 'Captain America: Civil War',\n",
       " 'Iron Man 3',\n",
       " 'Captain America: The First Avenger',\n",
       " 'Iron Man']"
      ]
     },
     "execution_count": 160,
     "metadata": {},
     "output_type": "execute_result"
    }
   ],
   "source": [
    "recommend('The Avengers')"
   ]
  },
  {
   "cell_type": "code",
   "execution_count": 18,
   "id": "f514b1cc-14f5-406b-aaea-00547056f23a",
   "metadata": {},
   "outputs": [
    {
     "name": "stderr",
     "output_type": "stream",
     "text": [
      "WARNING: Could not generate requirement for distribution -pencv-python 4.6.0.66 (c:\\users\\pc\\anaconda3\\lib\\site-packages): Parse error at \"'-pencv-p'\": Expected W:(abcd...)\n"
     ]
    }
   ],
   "source": [
    "!pip freeze > requirements.txt"
   ]
  },
  {
   "cell_type": "code",
   "execution_count": 21,
   "id": "c9a06163-a9c0-4352-9b7e-0c42bfe3a0b9",
   "metadata": {},
   "outputs": [
    {
     "data": {
      "text/html": [
       "<details>\n",
       "<summary>Click to view session information</summary>\n",
       "<pre>\n",
       "-----\n",
       "numpy               1.20.1\n",
       "pandas              1.2.4\n",
       "requests            2.25.1\n",
       "session_info        1.0.0\n",
       "-----\n",
       "</pre>\n",
       "<details>\n",
       "<summary>Click to view modules imported as dependencies</summary>\n",
       "<pre>\n",
       "anyio               NA\n",
       "attr                20.3.0\n",
       "babel               2.9.0\n",
       "backcall            0.2.0\n",
       "bottleneck          1.3.2\n",
       "brotli              NA\n",
       "certifi             2020.12.05\n",
       "chardet             4.0.0\n",
       "colorama            0.4.4\n",
       "cython_runtime      NA\n",
       "dateutil            2.8.1\n",
       "decorator           5.0.6\n",
       "google              NA\n",
       "idna                2.10\n",
       "ipykernel           5.3.4\n",
       "ipython_genutils    0.2.0\n",
       "jedi                0.17.2\n",
       "jinja2              2.11.3\n",
       "json5               NA\n",
       "jsonschema          3.2.0\n",
       "jupyter_server      1.4.1\n",
       "jupyterlab_server   2.4.0\n",
       "markupsafe          1.1.1\n",
       "mkl                 2.3.0\n",
       "mpl_toolkits        NA\n",
       "nbclassic           NA\n",
       "nbformat            5.1.3\n",
       "nt                  NA\n",
       "ntsecuritycon       NA\n",
       "numexpr             2.7.3\n",
       "packaging           20.9\n",
       "parso               0.7.0\n",
       "pickleshare         0.7.5\n",
       "pkg_resources       NA\n",
       "prometheus_client   NA\n",
       "prompt_toolkit      3.0.17\n",
       "pvectorc            NA\n",
       "pygments            2.8.1\n",
       "pyrsistent          NA\n",
       "pythoncom           NA\n",
       "pytz                2021.1\n",
       "pywintypes          NA\n",
       "send2trash          NA\n",
       "six                 1.15.0\n",
       "sniffio             1.2.0\n",
       "socks               1.7.1\n",
       "sphinxcontrib       NA\n",
       "storemagic          NA\n",
       "tornado             6.1\n",
       "traitlets           5.0.5\n",
       "urllib3             1.26.4\n",
       "wcwidth             0.2.5\n",
       "win32api            NA\n",
       "win32com            NA\n",
       "win32security       NA\n",
       "zmq                 20.0.0\n",
       "zope                NA\n",
       "</pre>\n",
       "</details> <!-- seems like this ends pre, so might as well be explicit -->\n",
       "<pre>\n",
       "-----\n",
       "IPython             7.22.0\n",
       "jupyter_client      6.1.12\n",
       "jupyter_core        4.7.1\n",
       "jupyterlab          3.0.14\n",
       "notebook            6.3.0\n",
       "-----\n",
       "Python 3.8.8 (default, Apr 13 2021, 15:08:03) [MSC v.1916 64 bit (AMD64)]\n",
       "Windows-7-6.1.7601-SP1\n",
       "-----\n",
       "Session information updated at 2022-09-14 22:28\n",
       "</pre>\n",
       "</details>"
      ],
      "text/plain": [
       "<IPython.core.display.HTML object>"
      ]
     },
     "execution_count": 21,
     "metadata": {},
     "output_type": "execute_result"
    }
   ],
   "source": [
    "import session_info\n",
    "session_info.show()"
   ]
  },
  {
   "cell_type": "code",
   "execution_count": null,
   "id": "b8cbada0-ae53-4f8f-aac7-cb4b28c92067",
   "metadata": {},
   "outputs": [],
   "source": []
  }
 ],
 "metadata": {
  "kernelspec": {
   "display_name": "Python 3",
   "language": "python",
   "name": "python3"
  },
  "language_info": {
   "codemirror_mode": {
    "name": "ipython",
    "version": 3
   },
   "file_extension": ".py",
   "mimetype": "text/x-python",
   "name": "python",
   "nbconvert_exporter": "python",
   "pygments_lexer": "ipython3",
   "version": "3.8.8"
  }
 },
 "nbformat": 4,
 "nbformat_minor": 5
}
